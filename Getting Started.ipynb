{
 "cells": [
  {
   "cell_type": "markdown",
   "id": "122bbb6c",
   "metadata": {},
   "source": [
    "# Introduction\n",
    "For those unacquainted, this is a jupyter notebook, a fairly popular and useful tool for interactive prototyping, data inspection, developing and documenting. Its content is partitioned into cells that can either contain markdown text or executable code, and further supports inline/in-cell vizualization of both plots and complex collections. \n",
    "\n",
    "The main purpose of this notebook is to provide a quick start for loading, processing and inspecting the data. Python-users  are free, and encouraged, to base their initial data exploration on this notebook, and everyone else are encouraged to take inspiration from the notebook when starting out in their language of choice. Particularly, the dataset placement and loading is important to get right in order to not check it into your own forked repositories. "
   ]
  },
  {
   "cell_type": "markdown",
   "id": "8e11c29e",
   "metadata": {},
   "source": [
    "# Data placement and loading\n",
    "We suggest that you clone/copy the dataset into your forked repositories.  \n",
    "E.g., execute: <code>git clone git@github.com:sfi-norwai/2022_hackathon_hemsil2_dataset.git</code>  \n",
    "when situated in the root directory of your forked repository, or use GitHub desktop etc. \n",
    "\n",
    "Ultimately, the provided *.gitignore* will ignore any directories named <code>2022_hackathon_hemsil2_dataset</code> within the repository, so as long as you name your data location accordingly, it can safely be placed within the forked repository. If you know what you are doing, you can always just keep the data outside of the repository or extend the gitignore to ignore other locations within it. "
   ]
  },
  {
   "cell_type": "code",
   "execution_count": 1,
   "id": "29115abf",
   "metadata": {},
   "outputs": [],
   "source": [
    "from pathlib import Path"
   ]
  },
  {
   "cell_type": "markdown",
   "id": "3c837e8c",
   "metadata": {},
   "source": [
    "## Data path\n",
    "**Note:** Modify the raw data path if you opt for not following the suggested placement"
   ]
  },
  {
   "cell_type": "code",
   "execution_count": 2,
   "id": "ed189011",
   "metadata": {},
   "outputs": [],
   "source": [
    "raw_data_path = '2022_hackathon_hemsil2_dataset'\n",
    "data_dir = Path(raw_data_path)"
   ]
  },
  {
   "cell_type": "markdown",
   "id": "70d991a2",
   "metadata": {},
   "source": [
    "## Load data\n",
    "We use the python package pandas for loading the data"
   ]
  },
  {
   "cell_type": "code",
   "execution_count": 3,
   "id": "7311d31c",
   "metadata": {},
   "outputs": [],
   "source": [
    "import pandas as pd\n",
    "import numpy as np"
   ]
  },
  {
   "cell_type": "code",
   "execution_count": 4,
   "id": "6ac878f9",
   "metadata": {},
   "outputs": [],
   "source": [
    "data_path = data_dir / \"hemsil2_datapoints_20102021.csv\"\n",
    "meta_data_path = data_dir / \"ts_info.csv\""
   ]
  },
  {
   "cell_type": "markdown",
   "id": "c2ccdd9b",
   "metadata": {},
   "source": [
    "### Load data into pandas DataFrame"
   ]
  },
  {
   "cell_type": "markdown",
   "id": "16387451",
   "metadata": {},
   "source": [
    "Load data points into DataFrame"
   ]
  },
  {
   "cell_type": "code",
   "execution_count": 5,
   "id": "6008452b",
   "metadata": {},
   "outputs": [],
   "source": [
    "data_df = pd.read_csv(data_path, sep=',', parse_dates=True, index_col=0)"
   ]
  },
  {
   "cell_type": "markdown",
   "id": "a3125e86",
   "metadata": {},
   "source": [
    "Load column meta data into Python dictionaries that can be indexed by column names"
   ]
  },
  {
   "cell_type": "code",
   "execution_count": 6,
   "id": "043dc128",
   "metadata": {},
   "outputs": [],
   "source": [
    "meta_data_df = pd.read_csv(meta_data_path, sep=',', index_col=0)\n",
    "meta_data_dict = {record['name']: record for record in meta_data_df.to_dict('records')}"
   ]
  },
  {
   "cell_type": "markdown",
   "id": "42ce7975",
   "metadata": {},
   "source": [
    "## Identify missing data\n",
    "Loading the data points into a pandas DataFrame seems to have worked fine, but closer inspection reveals that all columns contain \"null-values\""
   ]
  },
  {
   "cell_type": "code",
   "execution_count": 16,
   "id": "547c0225",
   "metadata": {},
   "outputs": [
    {
     "name": "stdout",
     "output_type": "stream",
     "text": [
      "<class 'pandas.core.frame.DataFrame'>\n",
      "DatetimeIndex: 105192 entries, 2010-01-01 00:00:00 to 2021-12-31 23:00:00\n",
      "Data columns (total 12 columns):\n",
      " #   Column                       Non-Null Count   Dtype  \n",
      "---  ------                       --------------   -----  \n",
      " 0   flaevatn_ppt                 105171 non-null  float64\n",
      " 1   hbv_hemsil2_inflow_pred_24h  105134 non-null  float64\n",
      " 2   flaevatn_temp                105171 non-null  float64\n",
      " 3   hbv_hemsil2_snow             105171 non-null  float64\n",
      " 4   hemsil2_inflow_corr          105171 non-null  float64\n",
      " 5   hbv_hemsil2_ground_water     105180 non-null  float64\n",
      " 6   hbv_hemsil2_soil_water       105180 non-null  float64\n",
      " 7   hbv_hemsil2_inflow_pred_48h  105108 non-null  float64\n",
      " 8   hbv_hemsil2_total_water      104052 non-null  float64\n",
      " 9   storeskar_inflow             105180 non-null  float64\n",
      " 10  storeskar_temp               102576 non-null  float64\n",
      " 11  hbv_hemsil2_snow_cover       104124 non-null  float64\n",
      "dtypes: float64(12)\n",
      "memory usage: 10.4 MB\n"
     ]
    }
   ],
   "source": [
    "data_df.info()"
   ]
  },
  {
   "cell_type": "markdown",
   "id": "3ae3f931",
   "metadata": {},
   "source": [
    "If we zoom in on some columns, we can notice some patterns in the missing data. E.g., flaevath_ppt, flaevatn_temp and other columns with 105171 non-null values are all NaN in most rows of the date 2021-09-14, while many of the remaining columns are consistenly NaN for the \"skipped\" hour when switching to daylight saving, e.g., storeskar_inflow. A few columns have a lot of missing values in the last months of the dataset"
   ]
  },
  {
   "cell_type": "code",
   "execution_count": 17,
   "id": "70d24ff8",
   "metadata": {},
   "outputs": [],
   "source": [
    "# Simple help function for extracting all rows where a given column has NaN values\n",
    "def extract_null_df(df, column):\n",
    "    return df[df[column].isnull()]"
   ]
  },
  {
   "cell_type": "code",
   "execution_count": 19,
   "id": "db8ac90c",
   "metadata": {},
   "outputs": [
    {
     "data": {
      "text/html": [
       "<div>\n",
       "<style scoped>\n",
       "    .dataframe tbody tr th:only-of-type {\n",
       "        vertical-align: middle;\n",
       "    }\n",
       "\n",
       "    .dataframe tbody tr th {\n",
       "        vertical-align: top;\n",
       "    }\n",
       "\n",
       "    .dataframe thead th {\n",
       "        text-align: right;\n",
       "    }\n",
       "</style>\n",
       "<table border=\"1\" class=\"dataframe\">\n",
       "  <thead>\n",
       "    <tr style=\"text-align: right;\">\n",
       "      <th></th>\n",
       "      <th>flaevatn_ppt</th>\n",
       "      <th>hbv_hemsil2_inflow_pred_24h</th>\n",
       "      <th>flaevatn_temp</th>\n",
       "      <th>hbv_hemsil2_snow</th>\n",
       "      <th>hemsil2_inflow_corr</th>\n",
       "      <th>hbv_hemsil2_ground_water</th>\n",
       "      <th>hbv_hemsil2_soil_water</th>\n",
       "      <th>hbv_hemsil2_inflow_pred_48h</th>\n",
       "      <th>hbv_hemsil2_total_water</th>\n",
       "      <th>storeskar_inflow</th>\n",
       "      <th>storeskar_temp</th>\n",
       "      <th>hbv_hemsil2_snow_cover</th>\n",
       "    </tr>\n",
       "  </thead>\n",
       "  <tbody>\n",
       "    <tr>\n",
       "      <th>2010-10-31 01:00:00</th>\n",
       "      <td>0.0</td>\n",
       "      <td>10.24</td>\n",
       "      <td>0.90</td>\n",
       "      <td>15.01</td>\n",
       "      <td>11.18</td>\n",
       "      <td>16.35</td>\n",
       "      <td>40.95</td>\n",
       "      <td>10.08</td>\n",
       "      <td>47.13</td>\n",
       "      <td>NaN</td>\n",
       "      <td>3.70</td>\n",
       "      <td>100.00</td>\n",
       "    </tr>\n",
       "    <tr>\n",
       "      <th>2011-10-30 01:00:00</th>\n",
       "      <td>0.0</td>\n",
       "      <td>12.51</td>\n",
       "      <td>3.50</td>\n",
       "      <td>8.73</td>\n",
       "      <td>10.11</td>\n",
       "      <td>20.05</td>\n",
       "      <td>38.90</td>\n",
       "      <td>14.31</td>\n",
       "      <td>41.77</td>\n",
       "      <td>NaN</td>\n",
       "      <td>1.25</td>\n",
       "      <td>100.00</td>\n",
       "    </tr>\n",
       "    <tr>\n",
       "      <th>2012-10-28 01:00:00</th>\n",
       "      <td>0.0</td>\n",
       "      <td>4.23</td>\n",
       "      <td>-6.56</td>\n",
       "      <td>26.73</td>\n",
       "      <td>2.04</td>\n",
       "      <td>11.18</td>\n",
       "      <td>38.27</td>\n",
       "      <td>5.20</td>\n",
       "      <td>47.92</td>\n",
       "      <td>NaN</td>\n",
       "      <td>-11.51</td>\n",
       "      <td>100.00</td>\n",
       "    </tr>\n",
       "    <tr>\n",
       "      <th>2013-10-27 01:00:00</th>\n",
       "      <td>0.0</td>\n",
       "      <td>17.89</td>\n",
       "      <td>1.89</td>\n",
       "      <td>27.23</td>\n",
       "      <td>17.15</td>\n",
       "      <td>16.12</td>\n",
       "      <td>38.11</td>\n",
       "      <td>17.89</td>\n",
       "      <td>53.70</td>\n",
       "      <td>NaN</td>\n",
       "      <td>0.12</td>\n",
       "      <td>100.00</td>\n",
       "    </tr>\n",
       "    <tr>\n",
       "      <th>2014-10-26 01:00:00</th>\n",
       "      <td>0.0</td>\n",
       "      <td>39.39</td>\n",
       "      <td>4.27</td>\n",
       "      <td>21.21</td>\n",
       "      <td>39.79</td>\n",
       "      <td>32.79</td>\n",
       "      <td>38.65</td>\n",
       "      <td>29.68</td>\n",
       "      <td>55.22</td>\n",
       "      <td>NaN</td>\n",
       "      <td>5.28</td>\n",
       "      <td>98.73</td>\n",
       "    </tr>\n",
       "    <tr>\n",
       "      <th>2015-10-25 01:00:00</th>\n",
       "      <td>0.1</td>\n",
       "      <td>7.13</td>\n",
       "      <td>3.13</td>\n",
       "      <td>0.12</td>\n",
       "      <td>4.84</td>\n",
       "      <td>16.57</td>\n",
       "      <td>37.48</td>\n",
       "      <td>6.46</td>\n",
       "      <td>30.01</td>\n",
       "      <td>NaN</td>\n",
       "      <td>1.85</td>\n",
       "      <td>100.00</td>\n",
       "    </tr>\n",
       "    <tr>\n",
       "      <th>2016-10-30 01:00:00</th>\n",
       "      <td>0.0</td>\n",
       "      <td>6.15</td>\n",
       "      <td>-0.15</td>\n",
       "      <td>11.80</td>\n",
       "      <td>3.40</td>\n",
       "      <td>9.72</td>\n",
       "      <td>37.19</td>\n",
       "      <td>6.33</td>\n",
       "      <td>36.99</td>\n",
       "      <td>NaN</td>\n",
       "      <td>0.86</td>\n",
       "      <td>100.00</td>\n",
       "    </tr>\n",
       "    <tr>\n",
       "      <th>2017-10-29 01:00:00</th>\n",
       "      <td>0.0</td>\n",
       "      <td>14.65</td>\n",
       "      <td>-1.07</td>\n",
       "      <td>39.63</td>\n",
       "      <td>15.63</td>\n",
       "      <td>17.11</td>\n",
       "      <td>40.38</td>\n",
       "      <td>12.00</td>\n",
       "      <td>59.44</td>\n",
       "      <td>NaN</td>\n",
       "      <td>0.14</td>\n",
       "      <td>100.00</td>\n",
       "    </tr>\n",
       "    <tr>\n",
       "      <th>2018-10-28 01:00:00</th>\n",
       "      <td>0.0</td>\n",
       "      <td>5.36</td>\n",
       "      <td>-11.36</td>\n",
       "      <td>3.50</td>\n",
       "      <td>4.74</td>\n",
       "      <td>21.80</td>\n",
       "      <td>40.38</td>\n",
       "      <td>4.65</td>\n",
       "      <td>32.81</td>\n",
       "      <td>NaN</td>\n",
       "      <td>-12.04</td>\n",
       "      <td>100.00</td>\n",
       "    </tr>\n",
       "    <tr>\n",
       "      <th>2019-10-27 01:00:00</th>\n",
       "      <td>0.0</td>\n",
       "      <td>21.83</td>\n",
       "      <td>-6.35</td>\n",
       "      <td>12.58</td>\n",
       "      <td>21.78</td>\n",
       "      <td>24.24</td>\n",
       "      <td>38.04</td>\n",
       "      <td>19.69</td>\n",
       "      <td>44.13</td>\n",
       "      <td>NaN</td>\n",
       "      <td>-8.90</td>\n",
       "      <td>100.00</td>\n",
       "    </tr>\n",
       "    <tr>\n",
       "      <th>2020-10-25 01:00:00</th>\n",
       "      <td>0.3</td>\n",
       "      <td>9.25</td>\n",
       "      <td>2.06</td>\n",
       "      <td>28.66</td>\n",
       "      <td>11.47</td>\n",
       "      <td>22.78</td>\n",
       "      <td>40.40</td>\n",
       "      <td>7.91</td>\n",
       "      <td>49.06</td>\n",
       "      <td>NaN</td>\n",
       "      <td>1.20</td>\n",
       "      <td>100.00</td>\n",
       "    </tr>\n",
       "    <tr>\n",
       "      <th>2021-10-31 01:00:00</th>\n",
       "      <td>NaN</td>\n",
       "      <td>34.16</td>\n",
       "      <td>NaN</td>\n",
       "      <td>NaN</td>\n",
       "      <td>NaN</td>\n",
       "      <td>43.38</td>\n",
       "      <td>41.21</td>\n",
       "      <td>24.59</td>\n",
       "      <td>46.45</td>\n",
       "      <td>NaN</td>\n",
       "      <td>NaN</td>\n",
       "      <td>30.52</td>\n",
       "    </tr>\n",
       "  </tbody>\n",
       "</table>\n",
       "</div>"
      ],
      "text/plain": [
       "                     flaevatn_ppt  hbv_hemsil2_inflow_pred_24h  flaevatn_temp  \\\n",
       "2010-10-31 01:00:00           0.0                        10.24           0.90   \n",
       "2011-10-30 01:00:00           0.0                        12.51           3.50   \n",
       "2012-10-28 01:00:00           0.0                         4.23          -6.56   \n",
       "2013-10-27 01:00:00           0.0                        17.89           1.89   \n",
       "2014-10-26 01:00:00           0.0                        39.39           4.27   \n",
       "2015-10-25 01:00:00           0.1                         7.13           3.13   \n",
       "2016-10-30 01:00:00           0.0                         6.15          -0.15   \n",
       "2017-10-29 01:00:00           0.0                        14.65          -1.07   \n",
       "2018-10-28 01:00:00           0.0                         5.36         -11.36   \n",
       "2019-10-27 01:00:00           0.0                        21.83          -6.35   \n",
       "2020-10-25 01:00:00           0.3                         9.25           2.06   \n",
       "2021-10-31 01:00:00           NaN                        34.16            NaN   \n",
       "\n",
       "                     hbv_hemsil2_snow  hemsil2_inflow_corr  \\\n",
       "2010-10-31 01:00:00             15.01                11.18   \n",
       "2011-10-30 01:00:00              8.73                10.11   \n",
       "2012-10-28 01:00:00             26.73                 2.04   \n",
       "2013-10-27 01:00:00             27.23                17.15   \n",
       "2014-10-26 01:00:00             21.21                39.79   \n",
       "2015-10-25 01:00:00              0.12                 4.84   \n",
       "2016-10-30 01:00:00             11.80                 3.40   \n",
       "2017-10-29 01:00:00             39.63                15.63   \n",
       "2018-10-28 01:00:00              3.50                 4.74   \n",
       "2019-10-27 01:00:00             12.58                21.78   \n",
       "2020-10-25 01:00:00             28.66                11.47   \n",
       "2021-10-31 01:00:00               NaN                  NaN   \n",
       "\n",
       "                     hbv_hemsil2_ground_water  hbv_hemsil2_soil_water  \\\n",
       "2010-10-31 01:00:00                     16.35                   40.95   \n",
       "2011-10-30 01:00:00                     20.05                   38.90   \n",
       "2012-10-28 01:00:00                     11.18                   38.27   \n",
       "2013-10-27 01:00:00                     16.12                   38.11   \n",
       "2014-10-26 01:00:00                     32.79                   38.65   \n",
       "2015-10-25 01:00:00                     16.57                   37.48   \n",
       "2016-10-30 01:00:00                      9.72                   37.19   \n",
       "2017-10-29 01:00:00                     17.11                   40.38   \n",
       "2018-10-28 01:00:00                     21.80                   40.38   \n",
       "2019-10-27 01:00:00                     24.24                   38.04   \n",
       "2020-10-25 01:00:00                     22.78                   40.40   \n",
       "2021-10-31 01:00:00                     43.38                   41.21   \n",
       "\n",
       "                     hbv_hemsil2_inflow_pred_48h  hbv_hemsil2_total_water  \\\n",
       "2010-10-31 01:00:00                        10.08                    47.13   \n",
       "2011-10-30 01:00:00                        14.31                    41.77   \n",
       "2012-10-28 01:00:00                         5.20                    47.92   \n",
       "2013-10-27 01:00:00                        17.89                    53.70   \n",
       "2014-10-26 01:00:00                        29.68                    55.22   \n",
       "2015-10-25 01:00:00                         6.46                    30.01   \n",
       "2016-10-30 01:00:00                         6.33                    36.99   \n",
       "2017-10-29 01:00:00                        12.00                    59.44   \n",
       "2018-10-28 01:00:00                         4.65                    32.81   \n",
       "2019-10-27 01:00:00                        19.69                    44.13   \n",
       "2020-10-25 01:00:00                         7.91                    49.06   \n",
       "2021-10-31 01:00:00                        24.59                    46.45   \n",
       "\n",
       "                     storeskar_inflow  storeskar_temp  hbv_hemsil2_snow_cover  \n",
       "2010-10-31 01:00:00               NaN            3.70                  100.00  \n",
       "2011-10-30 01:00:00               NaN            1.25                  100.00  \n",
       "2012-10-28 01:00:00               NaN          -11.51                  100.00  \n",
       "2013-10-27 01:00:00               NaN            0.12                  100.00  \n",
       "2014-10-26 01:00:00               NaN            5.28                   98.73  \n",
       "2015-10-25 01:00:00               NaN            1.85                  100.00  \n",
       "2016-10-30 01:00:00               NaN            0.86                  100.00  \n",
       "2017-10-29 01:00:00               NaN            0.14                  100.00  \n",
       "2018-10-28 01:00:00               NaN          -12.04                  100.00  \n",
       "2019-10-27 01:00:00               NaN           -8.90                  100.00  \n",
       "2020-10-25 01:00:00               NaN            1.20                  100.00  \n",
       "2021-10-31 01:00:00               NaN             NaN                   30.52  "
      ]
     },
     "execution_count": 19,
     "metadata": {},
     "output_type": "execute_result"
    }
   ],
   "source": [
    "# Rerun cell with different column names to inspect rows where said column is null\n",
    "column_name = 'storeskar_inflow'\n",
    "null_rows = extract_null_df(data_df, column_name)\n",
    "null_rows"
   ]
  },
  {
   "cell_type": "markdown",
   "id": "4f71bee1",
   "metadata": {},
   "source": [
    "## Handling missing data\n",
    "In real-world data, you have to expect some missing data. These may be caused by a myriad of issues like downtimes of sensors, communication and databases etc. There are multiple ways of handling such issues, each with their own sets of pros and cons. \n",
    "\n",
    "We provide an optional process for filling in all missing data points below"
   ]
  },
  {
   "cell_type": "markdown",
   "id": "f7b2416c",
   "metadata": {},
   "source": [
    "### [OPTIONAL] Simple removal of missing data\n",
    "Given the observations above, a simple idea is to simply drop all data after a cut-off point beginning with the problematic date 2021-09-14, as this only makes out a couple of months out of 12 years of data. The remaining NaNs are exclusively caused by the switch to daylight saving and the entire timestamp does not really exist within the timezone. As long as the dataset does not provide absolute timestamps, the simplest course of action is likely to just fill in the NaNs using linear interpolation or back/front fill. **Note:** That the raw data likely has overwritten datapoints when switching from daylight saving in the autumn as well. All in all, these two abnormalities should not affect any models too much, and if you do not want to spend time on more advanced processing, it should be safe to use this."
   ]
  },
  {
   "cell_type": "markdown",
   "id": "e96a79ca",
   "metadata": {},
   "source": [
    "Drop all data after 2021-09-13"
   ]
  },
  {
   "cell_type": "code",
   "execution_count": 20,
   "id": "784d7298",
   "metadata": {},
   "outputs": [],
   "source": [
    "data_df = data_df[data_df.index < pd.Timestamp(year=2021, month=9, day=1)]"
   ]
  },
  {
   "cell_type": "code",
   "execution_count": 21,
   "id": "ce1e7beb",
   "metadata": {},
   "outputs": [
    {
     "name": "stdout",
     "output_type": "stream",
     "text": [
      "<class 'pandas.core.frame.DataFrame'>\n",
      "DatetimeIndex: 102264 entries, 2010-01-01 00:00:00 to 2021-08-31 23:00:00\n",
      "Data columns (total 12 columns):\n",
      " #   Column                       Non-Null Count   Dtype  \n",
      "---  ------                       --------------   -----  \n",
      " 0   flaevatn_ppt                 102264 non-null  float64\n",
      " 1   hbv_hemsil2_inflow_pred_24h  102254 non-null  float64\n",
      " 2   flaevatn_temp                102264 non-null  float64\n",
      " 3   hbv_hemsil2_snow             102264 non-null  float64\n",
      " 4   hemsil2_inflow_corr          102264 non-null  float64\n",
      " 5   hbv_hemsil2_ground_water     102252 non-null  float64\n",
      " 6   hbv_hemsil2_soil_water       102252 non-null  float64\n",
      " 7   hbv_hemsil2_inflow_pred_48h  102252 non-null  float64\n",
      " 8   hbv_hemsil2_total_water      102252 non-null  float64\n",
      " 9   storeskar_inflow             102253 non-null  float64\n",
      " 10  storeskar_temp               102264 non-null  float64\n",
      " 11  hbv_hemsil2_snow_cover       102252 non-null  float64\n",
      "dtypes: float64(12)\n",
      "memory usage: 10.1 MB\n"
     ]
    }
   ],
   "source": [
    "data_df.info()"
   ]
  },
  {
   "cell_type": "markdown",
   "id": "76968ac6",
   "metadata": {},
   "source": [
    "Fill NaNs caused by switching to daylight saving using linear interpolation"
   ]
  },
  {
   "cell_type": "code",
   "execution_count": 22,
   "id": "a9f180a4",
   "metadata": {},
   "outputs": [],
   "source": [
    "data_df = data_df.interpolate(method='linear')"
   ]
  },
  {
   "cell_type": "code",
   "execution_count": 24,
   "id": "4e002cc0",
   "metadata": {},
   "outputs": [
    {
     "name": "stdout",
     "output_type": "stream",
     "text": [
      "<class 'pandas.core.frame.DataFrame'>\n",
      "DatetimeIndex: 102264 entries, 2010-01-01 00:00:00 to 2021-08-31 23:00:00\n",
      "Data columns (total 12 columns):\n",
      " #   Column                       Non-Null Count   Dtype  \n",
      "---  ------                       --------------   -----  \n",
      " 0   flaevatn_ppt                 102264 non-null  float64\n",
      " 1   hbv_hemsil2_inflow_pred_24h  102264 non-null  float64\n",
      " 2   flaevatn_temp                102264 non-null  float64\n",
      " 3   hbv_hemsil2_snow             102264 non-null  float64\n",
      " 4   hemsil2_inflow_corr          102264 non-null  float64\n",
      " 5   hbv_hemsil2_ground_water     102264 non-null  float64\n",
      " 6   hbv_hemsil2_soil_water       102264 non-null  float64\n",
      " 7   hbv_hemsil2_inflow_pred_48h  102264 non-null  float64\n",
      " 8   hbv_hemsil2_total_water      102264 non-null  float64\n",
      " 9   storeskar_inflow             102264 non-null  float64\n",
      " 10  storeskar_temp               102264 non-null  float64\n",
      " 11  hbv_hemsil2_snow_cover       102264 non-null  float64\n",
      "dtypes: float64(12)\n",
      "memory usage: 10.1 MB\n"
     ]
    }
   ],
   "source": [
    "data_df.info()"
   ]
  },
  {
   "cell_type": "markdown",
   "id": "164a1118",
   "metadata": {},
   "source": [
    "**Note:** A more intricate processing where only larger chunks of missing data are removed, while keeping track of the valid intervals is likely better. It would probably also be better to convert all times to UTC to avoid daylight saving issues, but you will then have to handle the overwritted hour in the autumn (interpolation etc)"
   ]
  }
 ],
 "metadata": {
  "kernelspec": {
   "display_name": "Python 3.9.12 ('base')",
   "language": "python",
   "name": "python3"
  },
  "language_info": {
   "codemirror_mode": {
    "name": "ipython",
    "version": 3
   },
   "file_extension": ".py",
   "mimetype": "text/x-python",
   "name": "python",
   "nbconvert_exporter": "python",
   "pygments_lexer": "ipython3",
   "version": "3.9.12"
  },
  "vscode": {
   "interpreter": {
    "hash": "07de9ecdfdcf5ceab24acef8adfbb93a66bb85d5528c249533a24fa590bb828d"
   }
  }
 },
 "nbformat": 4,
 "nbformat_minor": 5
}
